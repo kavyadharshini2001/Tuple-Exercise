{
 "cells": [
  {
   "cell_type": "code",
   "execution_count": 2,
   "metadata": {},
   "outputs": [
    {
     "name": "stdout",
     "output_type": "stream",
     "text": [
      "[(1, 3, 8), (2, 4, 9)]\n"
     ]
    }
   ],
   "source": [
    "'''1. Write a Python program to unzip a list of tuples into individual lists.\n",
    "    Data:\n",
    "        x = [(1,2), (3,4), (8,9)]\n",
    "    Expected Output:\n",
    "        [(1, 3, 8), (2, 4, 9)]'''\n",
    "        \n",
    "x = [(1, 2), (3, 4), (8, 9)]\n",
    "unzipped = list(zip(*x))\n",
    "print(unzipped)\n"
   ]
  },
  {
   "cell_type": "code",
   "execution_count": 3,
   "metadata": {},
   "outputs": [
    {
     "name": "stdout",
     "output_type": "stream",
     "text": [
      "This is a tuple (10, 20, 30)\n"
     ]
    }
   ],
   "source": [
    "'''2. Write a Python program to print a tuple with string formatting.\n",
    "    Data:\n",
    "        x = (10, 20, 30)\n",
    "    Expected Output:\n",
    "        This is a tuple (10, 20, 30)\n",
    "        \n",
    "        '''\n",
    "x = (10, 20, 30)\n",
    "print(\"This is a tuple\",x)"
   ]
  },
  {
   "cell_type": "code",
   "execution_count": 17,
   "metadata": {},
   "outputs": [
    {
     "data": {
      "text/plain": [
       "'3. Write a Python program to replace last values of tuples in a list.\\n    Data:\\n        x= [(80, 60, 40), (40, 90, 60), (20, 40, 90)]\\n    Expected Output:\\n        [(80, 60, 100), (40, 90, 100), (20, 40, 100)]\\n        '"
      ]
     },
     "execution_count": 17,
     "metadata": {},
     "output_type": "execute_result"
    }
   ],
   "source": [
    "'''3. Write a Python program to replace last values of tuples in a list.\n",
    "    Data:\n",
    "        x= [(80, 60, 40), (40, 90, 60), (20, 40, 90)]\n",
    "    Expected Output:\n",
    "        [(80, 60, 100), (40, 90, 100), (20, 40, 100)]\n",
    "        '''\n",
    "\n",
    "\n",
    "    "
   ]
  },
  {
   "cell_type": "code",
   "execution_count": 21,
   "metadata": {},
   "outputs": [
    {
     "name": "stdout",
     "output_type": "stream",
     "text": [
      "[('',), ('a', 'b'), ('c', 'd', 'e'), 'f']\n"
     ]
    }
   ],
   "source": [
    "'''4. Write a Python program to remove an empty tuple(s) from a list of tuples.\n",
    "    Data:\n",
    "        X = [(), (), ('',), ('a', 'b'), ('c', 'd', 'e'), ('f')] \n",
    "    Expected Output:\n",
    "        [('',), ('a', 'b'), ('c', 'd', 'e'), 'f']        \n",
    "        '''\n",
    "\n",
    "\n",
    "X = [(), (), ('',), ('a', 'b'), ('c', 'd', 'e'), ('f')]\n",
    "y = []\n",
    "for i in X:\n",
    "    if i:\n",
    "        y.append(i)\n",
    "\n",
    "\n",
    "print(y)\n"
   ]
  },
  {
   "cell_type": "code",
   "execution_count": 61,
   "metadata": {},
   "outputs": [
    {
     "data": {
      "text/plain": [
       "\"5. Write a Python program to sort a tuple by its element specified in float.\\n    Data:\\n        x = [('item1', '29.20'), ('item2', '49.10'), ('item3', '33.5')]\\n    Expected Output:\\n        [('item2', '49.10'), ('item3', '33.5'), ('item1', '29.20')]\\n        \\n        \""
      ]
     },
     "execution_count": 61,
     "metadata": {},
     "output_type": "execute_result"
    }
   ],
   "source": [
    "'''5. Write a Python program to sort a tuple by its element specified in float.\n",
    "    Data:\n",
    "        x = [('item1', '29.20'), ('item2', '49.10'), ('item3', '33.5')]\n",
    "    Expected Output:\n",
    "        [('item2', '49.10'), ('item3', '33.5'), ('item1', '29.20')]\n",
    "        \n",
    "        '''\n",
    "\n",
    "\n"
   ]
  },
  {
   "cell_type": "code",
   "execution_count": 28,
   "metadata": {},
   "outputs": [
    {
     "name": "stdout",
     "output_type": "stream",
     "text": [
      "3\n"
     ]
    }
   ],
   "source": [
    "'''6. Write a Python program to count the elements in a list until an element is a tuple.\n",
    "    Data:\n",
    "        x = [10,20,30,(10,20),40]\n",
    "        y = 0\n",
    "    Expected Output:\n",
    "        3\n",
    "        '''\n",
    "\n",
    "x = [10, 20, 30, (10, 20), 40]\n",
    "count = 0\n",
    "for element in x:\n",
    "    if isinstance(element, tuple):\n",
    "        break\n",
    "    count += 1\n",
    "print(count)\n",
    "\n",
    "        "
   ]
  },
  {
   "cell_type": "code",
   "execution_count": 30,
   "metadata": {},
   "outputs": [
    {
     "data": {
      "text/plain": [
       "\"7. Write a Python program to Sort a tuple of tuples by 2nd item.\\n    Data:\\n        x = (('a', 23),('b', 37),('c', 11), ('d',29))\\n    Expected Output:\\n        (('c', 11), ('a', 23), ('d', 29), ('b', 37))\""
      ]
     },
     "execution_count": 30,
     "metadata": {},
     "output_type": "execute_result"
    }
   ],
   "source": [
    "'''7. Write a Python program to Sort a tuple of tuples by 2nd item.\n",
    "    Data:\n",
    "        x = (('a', 23),('b', 37),('c', 11), ('d',29))\n",
    "    Expected Output:\n",
    "        (('c', 11), ('a', 23), ('d', 29), ('b', 37))'''\n",
    "        \n",
    "\n",
    "        "
   ]
  },
  {
   "cell_type": "code",
   "execution_count": 31,
   "metadata": {},
   "outputs": [
    {
     "name": "stdout",
     "output_type": "stream",
     "text": [
      "True\n"
     ]
    }
   ],
   "source": [
    "'''8. Write a Python program to Check whether all items in a tuple are the same.\n",
    "    Data:\n",
    "        y = (45, 45, 45, 45)\n",
    "    Expected Output:\n",
    "        True'''\n",
    "        \n",
    "\n",
    "y = (45, 45, 45, 45)\n",
    "result = all(item == y[0] for item in y)\n",
    "print(result)\n"
   ]
  },
  {
   "cell_type": "code",
   "execution_count": 33,
   "metadata": {},
   "outputs": [
    {
     "name": "stdout",
     "output_type": "stream",
     "text": [
      "78.5\n"
     ]
    }
   ],
   "source": [
    "'''9. Write a Python program to calculate the area of a circle by sending the value of radius in a tuple.\n",
    "    Data:\n",
    "        a = (5)\n",
    "    Expected Output:\n",
    "        78.57142857142857'''\n",
    "a=(5,)\n",
    "r = a[0]\n",
    "area = 3.14*r**2\n",
    "print(area)\n",
    "        \n",
    "        "
   ]
  },
  {
   "cell_type": "code",
   "execution_count": 34,
   "metadata": {},
   "outputs": [
    {
     "name": "stdout",
     "output_type": "stream",
     "text": [
      "12.56\n"
     ]
    }
   ],
   "source": [
    "'''10. Write a Python program to calculate the circumference of a circle by sending the value of radius in a tuple.\n",
    "    Data:\n",
    "        a = (2)\n",
    "    Expected Output:\n",
    "        12.571428571428571   \n",
    "        '''\n",
    "a=(2,)\n",
    "r = a[0]\n",
    "c = 2*3.14*r\n",
    "print(c)\n",
    "        \n",
    "        "
   ]
  },
  {
   "cell_type": "code",
   "execution_count": 35,
   "metadata": {},
   "outputs": [
    {
     "name": "stdout",
     "output_type": "stream",
     "text": [
      "12\n"
     ]
    }
   ],
   "source": [
    "'''11. Write a Python program to calculate the perimeter of a square by sending the value of side in a tuple.\n",
    "    Data:\n",
    "        a = (3)\n",
    "    Expected Output:\n",
    "        12\n",
    "        '''\n",
    "a=(3,)\n",
    "A=a[0]\n",
    "print(4*A)\n",
    "        "
   ]
  },
  {
   "cell_type": "code",
   "execution_count": 36,
   "metadata": {},
   "outputs": [
    {
     "name": "stdout",
     "output_type": "stream",
     "text": [
      "391.0\n"
     ]
    }
   ],
   "source": [
    "'''12. Write a Python program to calculate the area of a traingle by sending the value of height and base in a tuple.\n",
    "    Data:\n",
    "        h = (23)\n",
    "        b = (34)\n",
    "    Expected Output:\n",
    "        391.0\n",
    "        '''\n",
    "h = (23,)\n",
    "b = (34,)\n",
    "H=h[0]\n",
    "B=b[0]\n",
    "print(H*B*0.5)"
   ]
  },
  {
   "cell_type": "code",
   "execution_count": 37,
   "metadata": {},
   "outputs": [
    {
     "name": "stdout",
     "output_type": "stream",
     "text": [
      "()\n",
      "(1, 2, 3)\n",
      "(1, 'Hello', 3.4)\n",
      "('HI', [8, 4, 6], (1, 2, 3))\n"
     ]
    }
   ],
   "source": [
    "'''13. Write a Python program to create a tuple with elements of different data types.\n",
    "    Expected Output:\n",
    "        ()\n",
    "        (1, 2, 3)\n",
    "        (1, 'Hello', 3.4)\n",
    "        ('HI', [8, 4, 6], (1, 2, 3))\n",
    "        '''\n",
    "\n",
    "tuple1 = ()\n",
    "tuple2 = (1, 2, 3)\n",
    "tuple3 = (1, 'Hello', 3.4)\n",
    "tuple4 = ('HI', [8, 4, 6], (1, 2, 3))\n",
    "\n",
    "\n",
    "print(tuple1)\n",
    "print(tuple2)\n",
    "print(tuple3)\n",
    "print(tuple4)\n"
   ]
  },
  {
   "cell_type": "code",
   "execution_count": 41,
   "metadata": {},
   "outputs": [
    {
     "name": "stdout",
     "output_type": "stream",
     "text": [
      "(3, 4.6, 'dog')\n",
      "3\n",
      "4.6\n",
      "dog\n"
     ]
    }
   ],
   "source": [
    "'''14. Write a Python program to unpack a tuple in several variables.\n",
    "    Data:\n",
    "        x = 3, 4.6, \"dog\"\n",
    "    Expected Output:\n",
    "        (3, 4.6, 'dog')\n",
    "        3\n",
    "        4.6\n",
    "        dog'''\n",
    "        \n",
    "x = 3, 4.6, \"dog\"\n",
    "\n",
    "a,b,c = x\n",
    "print(x)\n",
    "print(a)\n",
    "print(b)\n",
    "print(c)"
   ]
  },
  {
   "cell_type": "code",
   "execution_count": 44,
   "metadata": {},
   "outputs": [
    {
     "name": "stdout",
     "output_type": "stream",
     "text": [
      "(4, 2, 3, [9, 5])\n"
     ]
    }
   ],
   "source": [
    "'''15. Write a Python program to update the value \"6\" to \"9\" which is present in a tuple using index. \n",
    "    Data:\n",
    "        x = (4, 2, 3, [6, 5])\n",
    "    Expected Output:\n",
    "        (4, 2, 3, [9, 5])\n",
    "        '''\n",
    "x = (4, 2, 3, [6, 5])\n",
    "x=list(x)\n",
    "x[3][0]=9\n",
    "print(tuple(x))\n"
   ]
  },
  {
   "cell_type": "code",
   "execution_count": 46,
   "metadata": {},
   "outputs": [
    {
     "name": "stdout",
     "output_type": "stream",
     "text": [
      "Yes Bihar is present in the given tuple\n",
      "Bihar\n",
      "Odisha\n",
      "Assam\n"
     ]
    }
   ],
   "source": [
    "'''16. Write a Python program to check whether an element is present in a given tuple using the keyword in. Print the elements of a tuple one by one.\n",
    "    Data:\n",
    "        x = (\"Bihar\", \"Odisha\", \"Assam\") \n",
    "    Expected Output:\n",
    "        yes Bihar is present in the given tuple\n",
    "\n",
    "        Bihar\n",
    "        Odisha\n",
    "        Assam'''\n",
    "\n",
    "x = (\"Bihar\", \"Odisha\", \"Assam\")\n",
    "if \"Bihar\" in x:\n",
    "    print(\"Yes Bihar is present in the given tuple\")\n",
    "else:\n",
    "    print(\"No, Bihar is not present in the given tuple\")\n",
    "for element in x:\n",
    "    print(element)\n",
    "\n",
    "        \n",
    "        "
   ]
  },
  {
   "cell_type": "code",
   "execution_count": 48,
   "metadata": {},
   "outputs": [
    {
     "name": "stdout",
     "output_type": "stream",
     "text": [
      "False\n",
      "True\n"
     ]
    }
   ],
   "source": [
    " '''17. Write a Python program to check whether an element is not present in a given tuple using the keyword not in. Print the elements of a tuple one by one.\n",
    "    Data:\n",
    "        x = (\"Bihar\", \"Odisha\", \"Assam\")\n",
    "    Expected Output:\n",
    "        False\n",
    "        True     '''  \n",
    "        \n",
    "x = (\"Bihar\", \"Odisha\", \"Assam\")\n",
    "print(\"Bihar\"not in x)\n",
    "print(\"kerala\"not in x)"
   ]
  },
  {
   "cell_type": "code",
   "execution_count": 4,
   "metadata": {},
   "outputs": [],
   "source": [
    "''' 18. Write a Python program to print the following output from given tuple (5 > 3 and 5 < 10 )and (5 > 3 or 5 > 10) is True or False.\n",
    "    Expected Output:\n",
    "        Both statements are True\n",
    "        any one statements are True '''\n",
    "\n",
    "#Doubt:- There is no tuple here. Question not understood.       \n",
    "        "
   ]
  },
  {
   "cell_type": "code",
   "execution_count": 49,
   "metadata": {},
   "outputs": [
    {
     "name": "stdout",
     "output_type": "stream",
     "text": [
      "bala\n",
      "suresh\n"
     ]
    }
   ],
   "source": [
    "'''19. Write a Python program to print an element from a given tuple using index and negative index.\n",
    "    Data:\n",
    "        x = (\"boss\", \"bala\", \"suresh\")\n",
    "    Expected Output:\n",
    "        bala\n",
    "        suresh\n",
    "        '''\n",
    "x = (\"boss\", \"bala\", \"suresh\")\n",
    "print(x[1])\n",
    "print(x[-1])"
   ]
  },
  {
   "cell_type": "code",
   "execution_count": 60,
   "metadata": {},
   "outputs": [
    {
     "name": "stdout",
     "output_type": "stream",
     "text": [
      "Salad\n",
      "('Strawberry', 'Vennila', 'Chocobar', 'Blackberry', 'Salad')\n",
      "('Vennila', 'Chocobar', 'Blackberry')\n"
     ]
    }
   ],
   "source": [
    "'''20. Write a Python program to print the elements of a given tuple using range of indices and range of negative indices.\n",
    "    Data:\n",
    "        x = (\"Magnum\", \"Pistah\", \"Strawberry\", \"Vennila\", \"Chocobar\", \"Blackberry\", \"Salad\")\n",
    "    Range of Indexes,Range of Negative Indexes.\n",
    "    Expected Output:\n",
    "        ('Strawberry', 'Vennila', 'Chocobar', 'Blackberry', 'Salad')\n",
    "        ('Vennila', 'Chocobar', 'Blackberry')        \n",
    "        '''\n",
    "x = (\"Magnum\", \"Pistah\", \"Strawberry\", \"Vennila\", \"Chocobar\", \"Blackberry\", \"Salad\")\n",
    "y = x[2:]\n",
    "z = x[-4:-1]\n",
    "\n",
    "print(y)\n",
    "print(z)"
   ]
  },
  {
   "cell_type": "code",
   "execution_count": 55,
   "metadata": {},
   "outputs": [],
   "source": [
    "#Doubt:- There is no tuple here. Question not understood.  #Question number 18"
   ]
  },
  {
   "cell_type": "code",
   "execution_count": null,
   "metadata": {},
   "outputs": [],
   "source": []
  }
 ],
 "metadata": {
  "kernelspec": {
   "display_name": "Python 3 (ipykernel)",
   "language": "python",
   "name": "python3"
  },
  "language_info": {
   "codemirror_mode": {
    "name": "ipython",
    "version": 3
   },
   "file_extension": ".py",
   "mimetype": "text/x-python",
   "name": "python",
   "nbconvert_exporter": "python",
   "pygments_lexer": "ipython3",
   "version": "3.11.5"
  }
 },
 "nbformat": 4,
 "nbformat_minor": 4
}
