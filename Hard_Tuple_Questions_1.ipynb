{
 "cells": [
  {
   "cell_type": "code",
   "execution_count": 1,
   "id": "f1302198",
   "metadata": {},
   "outputs": [
    {
     "name": "stdout",
     "output_type": "stream",
     "text": [
      "Saravana\n",
      "True\n"
     ]
    }
   ],
   "source": [
    "tuple_list = (('Coffee', 'Tea', 'Boost'), ('Badam', 'Pista', 'Walnut'), ('Sangeetha', 'A2B', 'Saravana'))\n",
    "element = input()\n",
    "\n",
    "is_present = False\n",
    "for i in tuple_list:\n",
    "    for j in i:\n",
    "        if element in j:\n",
    "            is_present = True\n",
    "            break\n",
    "if is_present:\n",
    "    print(\"True\")\n",
    "else:\n",
    "    print(\"False\")\n"
   ]
  },
  {
   "cell_type": "code",
   "execution_count": 2,
   "id": "b6de423a",
   "metadata": {},
   "outputs": [
    {
     "name": "stdout",
     "output_type": "stream",
     "text": [
      "920401070"
     ]
    }
   ],
   "source": [
    "'''4. Write a Python program to convert a given tuple of integers into an integer.\n",
    "    Data:\n",
    "        Example tuple: \n",
    "        (9, 20, 40, 10, 70)\n",
    "    Expected Output:\n",
    "        positive integers:\n",
    "        920401070'''\n",
    "tup = (9,20,40,10,70)\n",
    "for i in tup:\n",
    "    print(i,end=\"\")\n",
    "        "
   ]
  },
  {
   "cell_type": "code",
   "execution_count": 4,
   "id": "33d4545d",
   "metadata": {},
   "outputs": [
    {
     "name": "stdout",
     "output_type": "stream",
     "text": [
      "New tuple values:\n",
      "((222, 33), (546, 678))\n"
     ]
    }
   ],
   "source": [
    "'''5. Write a Python program to convert a tuple of string values into a tuple of integer values. \n",
    "    Data:\n",
    "        tuple values:\n",
    "        (('222', '33'), ('546', '678'))\n",
    "    Expected Output:\n",
    "        New tuple values:\n",
    "        ((222, 33), (546, 678))\n",
    "        \n",
    "        '''\n",
    "\n",
    "tuple_values = (('222', '33'), ('546', '678'))\n",
    "new_tuple_values = []\n",
    "\n",
    "for inner_tuple in tuple_values:\n",
    "    new_inner_tuple = []\n",
    "    for value in inner_tuple:\n",
    "        new_inner_tuple.append(int(value))\n",
    "    new_tuple_values.append(tuple(new_inner_tuple))\n",
    "\n",
    "\n",
    "print(\"New tuple values:\")\n",
    "print(tuple(new_tuple_values))\n"
   ]
  },
  {
   "cell_type": "code",
   "execution_count": 9,
   "id": "c354e1b4",
   "metadata": {},
   "outputs": [
    {
     "name": "stdout",
     "output_type": "stream",
     "text": [
      "[15.5, 33.5, 34.0, 26.75]\n",
      "[18.0, -18.0, 4.75]\n"
     ]
    }
   ],
   "source": [
    "'''6. Write a Python program to calculate the average value of the numbers in a given tuple of tuples. \n",
    "    Data:\n",
    "        Example Tuple: \n",
    "        ((5, 30, 10, 12), (30, 20, 56, 54), (26, 80, 67, 32), (1, 4, 3, 9))\n",
    "        ((1, 1, -7), (10, -15, 56), (71, -60, -39), (-10, 2, 9))\n",
    "    Expected Output:\n",
    "        Average value of the numbers:\n",
    "        [15.5, 33.5, 34.0, 26.75]\n",
    "        [18.0, -18.0, 4.75]\n",
    "        '''\n",
    "abc = ((5, 30, 10, 12), (30, 20, 56, 54), (26, 80, 67, 32), (1, 4, 3, 9))\n",
    "xyz = ((1, 1, -7), (10, -15, 56), (71, -60, -39), (-10, 2, 9))\n",
    "def cal_avg(num):\n",
    "    return sum(num)/len(num) if len(num)>0 else 0\n",
    "lst1=[]\n",
    "lst2=[]\n",
    "for num in zip(*abc):\n",
    "    lst1.append(cal_avg(num))\n",
    "print(lst1)   \n",
    "for num in zip(*xyz):\n",
    "    lst2.append(cal_avg(num))\n",
    "print(lst2)    "
   ]
  },
  {
   "cell_type": "code",
   "execution_count": 16,
   "id": "c5515812",
   "metadata": {},
   "outputs": [
    {
     "name": "stdout",
     "output_type": "stream",
     "text": [
      "multiplying all the numbers: -2400\n",
      "multiplying all the numbers: 18144\n"
     ]
    }
   ],
   "source": [
    "'''7. Write a Python program to multiply all the elements of a given tuple. \n",
    "    Data:\n",
    "        Example Tuple: \n",
    "        (4, 3, 5, 2, -2, 10)\n",
    "        (2, 6, 8, 7, 3, 1, 9)\n",
    "    Expected Output:\n",
    "        multiplying all the numbers: -2400\n",
    "        multiplying all the numbers: 18144\n",
    "            \n",
    "            '''\n",
    "def multi(a):\n",
    "    m = 1\n",
    "    for i in a:\n",
    "        m *= i\n",
    "    return m\n",
    "\n",
    "x = multi((4, 3, 5, 2, -2, 10))\n",
    "v = multi((2, 6, 8, 7, 3, 1, 9))\n",
    "print(\"multiplying all the numbers:\",x)\n",
    "print(\"multiplying all the numbers:\",v)\n"
   ]
  },
  {
   "cell_type": "code",
   "execution_count": 19,
   "id": "9cfed523",
   "metadata": {},
   "outputs": [
    {
     "name": "stdout",
     "output_type": "stream",
     "text": [
      "<class 'str'>\n",
      "('a', 'i', 'd', 'i', 'n', 'a', 's', 'a', 'u', 'r', '.', 'c', 'o', 'm')\n"
     ]
    }
   ],
   "source": [
    "'''8. Write a Python program to convert a given string into a tuple.\n",
    "    Data:\n",
    "        Example string:\n",
    "        aidinasaur.com\n",
    "        <class 'str'>\n",
    "    Expected Output:\n",
    "        Convert the said string to a tuple:\n",
    "        ('a', 'i', 'd', 'i', 'n', 'a', 's', 'a', 'u', 'r', '.', 'c', 'o', 'm')\n",
    "        <class 'tuple'>     \n",
    "        '''\n",
    "x=\"aidinasaur.com\"\n",
    "print(type(x))\n",
    "lst=[]\n",
    "for i in x:\n",
    "    lst.append(i)\n",
    "print(tuple(lst))    \n",
    "    "
   ]
  },
  {
   "cell_type": "code",
   "execution_count": 23,
   "id": "825c9a83",
   "metadata": {},
   "outputs": [
    {
     "name": "stdout",
     "output_type": "stream",
     "text": [
      "enter the number5\n",
      "The value is: 615\n"
     ]
    }
   ],
   "source": [
    "'''9. Write a Python Program to Read a Number n and Compute n+nn+nnn using tuple. Get the input from user.\n",
    "    Expected Output:\n",
    "        Enter a number n : 5\n",
    "        The value is : 615'''\n",
    "n = int(input(\"enter the number\"))\n",
    "result=n+int(str(n)*2)+int(str(n)*3)\n",
    "print(f\"The value is: {result}\")"
   ]
  },
  {
   "cell_type": "code",
   "execution_count": 47,
   "id": "81c7f7de",
   "metadata": {},
   "outputs": [
    {
     "name": "stdout",
     "output_type": "stream",
     "text": [
      "('H', 'E', 'L', 'L', 'O', ' ', 'N', 'A', 'T', 'U', 'R', 'E')\n",
      "(5, 4)\n",
      "(2, 4, 3, 5, 4, 6)\n",
      "(2, 4, 3, 5, 4, 6, 7, 8, 6, 1)\n",
      "(3, 5, 4, 6)\n",
      "('L', 'O', 'N', 'T')\n",
      "('H', 'O', 'T')\n",
      "('U', ' ')\n"
     ]
    }
   ],
   "source": [
    "'''10. Write a Python program to slice a tuple.\n",
    "    Data:\n",
    "        x = (2, 4, 3, 5, 4, 6, 7, 8, 6, 1)\n",
    "        y = tuple(\"HELLO NATURE\")\n",
    "    Expected Output:\n",
    "        (5, 4)\n",
    "        (2, 4, 3, 5, 4, 6)\n",
    "        (6, 7, 8, 6, 1)\n",
    "        (2, 4, 3, 5, 4, 6, 7, 8, 6, 1)\n",
    "        (3, 5, 4, 6)\n",
    "        ('H', 'E', 'L', 'L', 'O', ' ', 'N', 'A', 'T', 'U', 'R', 'E')\n",
    "        ('L', 'O', 'N', 'T')\n",
    "        ('H', 'O', 'T')\n",
    "        ('U', ' ')    \n",
    "        \n",
    "        '''\n",
    "x = (2, 4, 3, 5, 4, 6, 7, 8, 6, 1)\n",
    "y = tuple(\"HELLO NATURE\")\n",
    "print(y)\n",
    "print(x[3:5])\n",
    "print(x[0:6])\n",
    "print(x)\n",
    "print(x[2:6])\n",
    "print(y[2:9:2])\n",
    "print(y[0::4])\n",
    "print(y[-3:-8:-4])\n",
    "\n",
    "\n"
   ]
  },
  {
   "cell_type": "code",
   "execution_count": 53,
   "id": "ce5c6aa8",
   "metadata": {},
   "outputs": [
    {
     "name": "stdout",
     "output_type": "stream",
     "text": [
      "6\n",
      "27\n"
     ]
    }
   ],
   "source": [
    "'''12. Write a Python function to calculate the sum of given three numbers in a tuple. Return three times of their sum, if the values in a tuple are same.\n",
    "    Data:\n",
    "        (1, 2, 3) \n",
    "        (3, 3, 3)\n",
    "    Expected Output:\n",
    "        6\n",
    "        27'''\n",
    "x=(1, 2, 3) \n",
    "y=(3, 3, 3)\n",
    "print(sum(x))\n",
    "for i in y:\n",
    "    if i != y[0]:\n",
    "        break\n",
    "else:\n",
    "    print(sum(y)*3)\n",
    "    \n",
    "\n",
    "\n",
    "        \n",
    "    \n"
   ]
  },
  {
   "cell_type": "code",
   "execution_count": 57,
   "id": "62b3082d",
   "metadata": {},
   "outputs": [
    {
     "name": "stdout",
     "output_type": "stream",
     "text": [
      "1\n",
      "1\n"
     ]
    }
   ],
   "source": [
    "'''13. Write a Python program to count the number 4 in a given list of tuple.\n",
    "    Data:\n",
    "        tuples([1, 5, 6, 8, 4])\n",
    "        tuples([1, 4, 6, 2, 7, 5])\n",
    "    Expected Output:\n",
    "        1\n",
    "        1        '''\n",
    "def c(tup):\n",
    "    x=0\n",
    "    for i in tup:\n",
    "        if i == 4:\n",
    "            x+=1\n",
    "            return x\n",
    "tup1=c([1, 5, 6, 8, 4])\n",
    "tup2=c([1, 4, 6, 2, 7, 5])\n",
    "print(tup1)\n",
    "print(tup2)\n"
   ]
  },
  {
   "cell_type": "code",
   "execution_count": null,
   "id": "4c989031",
   "metadata": {},
   "outputs": [],
   "source": []
  },
  {
   "cell_type": "code",
   "execution_count": null,
   "id": "20fa1735",
   "metadata": {},
   "outputs": [],
   "source": []
  },
  {
   "cell_type": "code",
   "execution_count": null,
   "id": "b55490de",
   "metadata": {},
   "outputs": [],
   "source": []
  }
 ],
 "metadata": {
  "kernelspec": {
   "display_name": "Python 3 (ipykernel)",
   "language": "python",
   "name": "python3"
  },
  "language_info": {
   "codemirror_mode": {
    "name": "ipython",
    "version": 3
   },
   "file_extension": ".py",
   "mimetype": "text/x-python",
   "name": "python",
   "nbconvert_exporter": "python",
   "pygments_lexer": "ipython3",
   "version": "3.11.5"
  }
 },
 "nbformat": 4,
 "nbformat_minor": 5
}
