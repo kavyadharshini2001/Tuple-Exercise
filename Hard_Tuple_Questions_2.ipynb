{
 "cells": [
  {
   "cell_type": "code",
   "execution_count": 3,
   "id": "b1481f85",
   "metadata": {},
   "outputs": [
    {
     "name": "stdout",
     "output_type": "stream",
     "text": [
      "y\n",
      "False\n"
     ]
    }
   ],
   "source": [
    "'''14. Write a Python function to check whether a specified letter in a tuple is a vowel or not. Return True if it a vowel, False if not.\n",
    "    Data:\n",
    "        vowel('c')\n",
    "        vowel('e')\n",
    "    Expected Output:\n",
    "        False\n",
    "        True'''\n",
    "def vowel(char):\n",
    "    tup = (\"a\",\"e\",\"i\",\"o\",\"u\")\n",
    "    return char in tup\n",
    "k=input()\n",
    "st=vowel(k)\n",
    "print(st)"
   ]
  },
  {
   "cell_type": "code",
   "execution_count": 8,
   "id": "1bdd559a",
   "metadata": {},
   "outputs": [
    {
     "name": "stdout",
     "output_type": "stream",
     "text": [
      "1\n"
     ]
    }
   ],
   "source": [
    "'''15. Write a Python program to compute the greatest common divisor (GCD) of two given positive integers in a tuple.\n",
    "    Data:\n",
    "        a = (12, 17)    \n",
    "    Expected output:\n",
    "        1'''\n",
    "import math\n",
    "\n",
    "def compute_gcd(a):\n",
    "    if len(a) == 2 and all(isinstance(i, int) and i > 0 for i in a):\n",
    "        gcd_result = math.gcd(a[0], a[1])\n",
    "        return gcd_result\n",
    "    else:\n",
    "        return \"Invalid input. Please provide exactly two positive integers.\"\n",
    "\n",
    "\n",
    "tuple_a = (12, 17)\n",
    "result = compute_gcd(tuple_a)\n",
    "\n",
    "\n",
    "print(result)\n"
   ]
  },
  {
   "cell_type": "code",
   "execution_count": 9,
   "id": "472dfa5e",
   "metadata": {},
   "outputs": [
    {
     "name": "stdout",
     "output_type": "stream",
     "text": [
      "12\n"
     ]
    }
   ],
   "source": [
    "'''16. Write a Python program to compute the least common multiple (LCM) of two given positive integers in a tuple.\n",
    "    Data:\n",
    "        a = (4, 6)\n",
    "    Expected output:\n",
    "        12\n",
    "    \n",
    "    '''\n",
    "import math\n",
    "\n",
    "def compute_gcd(a):\n",
    "    if len(a) == 2 and all(isinstance(i, int) and i > 0 for i in a):\n",
    "        gcd_result = math.lcm(a[0], a[1])\n",
    "        return gcd_result\n",
    "    else:\n",
    "        return \"Invalid input. Please provide exactly two positive integers.\"\n",
    "\n",
    "\n",
    "tuple_a = (4, 6)\n",
    "result = compute_gcd(tuple_a)\n",
    "\n",
    "\n",
    "print(result)\n"
   ]
  },
  {
   "cell_type": "code",
   "execution_count": 10,
   "id": "d93a4689",
   "metadata": {},
   "outputs": [
    {
     "name": "stdout",
     "output_type": "stream",
     "text": [
      "6.4031242374328485\n"
     ]
    }
   ],
   "source": [
    "'''17. Write a Python program to calculate the hypotenuse of a right angled triangle. \n",
    "    Data:\n",
    "        Input lengths of shorter triangle sides:\n",
    "            a: 4\n",
    "            b: 5\n",
    "    Expected Output:\n",
    "        length of the hypotenuse is 6.4031242374328485 '''\n",
    "def hypo(a,b):\n",
    "    return ((a**2+b**2)**0.5)\n",
    "print(hypo(4,5))"
   ]
  },
  {
   "cell_type": "code",
   "execution_count": 14,
   "id": "040f6b44",
   "metadata": {},
   "outputs": [
    {
     "name": "stdout",
     "output_type": "stream",
     "text": [
      " x is tuple\n"
     ]
    }
   ],
   "source": [
    "'''18. Write a Python program to check whether a given variable is a list or a tuple or a set.\n",
    "    Data:\n",
    "        x = ('tuple', True, 5.2, 9)\n",
    "    Expected Output:\n",
    "        x is a tuple    '''\n",
    "x = ('tuple', \"True\", 5.2, 9)\n",
    "if  isinstance(x,tuple):\n",
    "    print(\" x is tuple\")\n",
    "elif isinstance(x,list):\n",
    "    print(\"it is list\")\n",
    "else:\n",
    "    print(\"it is set\")\n"
   ]
  },
  {
   "cell_type": "code",
   "execution_count": 16,
   "id": "d523ffae",
   "metadata": {},
   "outputs": [
    {
     "name": "stdout",
     "output_type": "stream",
     "text": [
      "('apple', 'kiwi', 'cherry')\n"
     ]
    }
   ],
   "source": [
    "'''19. Write a Python program to update the element \"banana\" into \"kiwi\" that is stored in a tuple.\n",
    "    Data:\n",
    "        x = (\"apple\", \"banana\", \"cherry\")\n",
    "    Expected Output:\n",
    "        ('apple', 'banana', 'cherry')\n",
    "        ('apple', 'kiwi', 'cherry')       \n",
    "        \n",
    "        '''\n",
    "x = (\"apple\", \"banana\", \"cherry\")\n",
    "x=list(x)\n",
    "x[1]=\"kiwi\"\n",
    "print(tuple(x))"
   ]
  },
  {
   "cell_type": "code",
   "execution_count": 17,
   "id": "1325bcc2",
   "metadata": {},
   "outputs": [
    {
     "name": "stdout",
     "output_type": "stream",
     "text": [
      "{'boss': 10, 'suresh': 12, 'anand': 14, 'siva': 20, 'bala': 25, 'karthi': 30}\n"
     ]
    }
   ],
   "source": [
    "'''20. Write a Python program to convert a tuple into a dictionary.\n",
    "    Data:\n",
    "        x = ((\"boss\", 10), (\"suresh\", 12), (\"anand\", 14), (\"siva\", 20), (\"bala\", 25), (\"karthi\", 30))\n",
    "    Expected Output:\n",
    "        {10: 'boss', 12: 'suresh', 14: 'anand', 20: 'siva', 25: 'bala', 30: 'karthi'}\n",
    "        \n",
    "        '''\n",
    "x = ((\"boss\", 10), (\"suresh\", 12), (\"anand\", 14), (\"siva\", 20), (\"bala\", 25), (\"karthi\", 30))\n",
    "print(dict(x))"
   ]
  },
  {
   "cell_type": "code",
   "execution_count": 18,
   "id": "67520503",
   "metadata": {},
   "outputs": [
    {
     "name": "stdout",
     "output_type": "stream",
     "text": [
      "sum of all the elements of each tuple:\n",
      "[9, 8, 6]\n",
      "[7, 1, 8, 9]\n"
     ]
    }
   ],
   "source": [
    "'''1. Write a Python program to sum all the elements of each tuple stored in a list.\n",
    "    Data:\n",
    "        list of tuples:\n",
    "        [(5, 4), (5, 3), (2, 4)]\n",
    "        [(1, 2, 4), (3, 4, -6), (3, 5), (1, 4, 2, 2)]\n",
    "    Expected Output:\n",
    "        Sum of all the elements of each tuple:\n",
    "        [9, 8, 6]\n",
    "        [7, 1, 8, 9]\n",
    "'''\n",
    "lst1 =[(5, 4), (5, 3), (2, 4)] \n",
    "lst2=[(1, 2, 4), (3, 4, -6), (3, 5), (1, 4, 2, 2)]\n",
    "def sum_of_tup(tup):\n",
    "    return sum(tup)\n",
    "x=[]\n",
    "for i in lst1:\n",
    "    x.append(sum_of_tup(i))\n",
    "y=[]\n",
    "for i in lst2:\n",
    "    y.append(sum_of_tup(i))\n",
    "print(\"sum of all the elements of each tuple:\")\n",
    "print(x)\n",
    "print(y)"
   ]
  },
  {
   "cell_type": "code",
   "execution_count": 19,
   "id": "6c74b089",
   "metadata": {},
   "outputs": [
    {
     "name": "stdout",
     "output_type": "stream",
     "text": [
      "(7, 11, 11, 10)\n"
     ]
    }
   ],
   "source": [
    "'''2. Write a Python program to compute element-wise sum of given tuples. \n",
    "    Data:\n",
    "        list of tuples:\n",
    "        x = (1,2,3,4), y = (3,5,2,1), z = (2,2,3,1), l = (1,2,3,4)\n",
    "    Expected Output:\n",
    "        Element-wise sum of the said tuples:\n",
    "        (7, 11, 11, 10) '''\n",
    "\n",
    "x = (1,2,3,4)\n",
    "y = (3,5,2,1)\n",
    "z = (2,2,3,1)\n",
    "l = (1,2,3,4)\n",
    "result=[]\n",
    "for i in zip(x,y,z,l):\n",
    "    result.append(sum(i))\n",
    "        \n",
    "print(tuple(result)) "
   ]
  },
  {
   "cell_type": "code",
   "execution_count": 20,
   "id": "34fc2040",
   "metadata": {},
   "outputs": [
    {
     "name": "stdout",
     "output_type": "stream",
     "text": [
      "Boost\n",
      "True\n"
     ]
    }
   ],
   "source": [
    "'''3. Write a Python program to check whether a specified element is present in a given nested tuple.\n",
    "    Data:\n",
    "        list of tuples:\n",
    "        (('Coffee', 'Tea', 'Boost'), ('Badam', 'Pista', 'Walnut'), ('Sangeetha', 'A2B', 'Saravana'))\n",
    "    Expected Output:\n",
    "        Check if Bournvita present in said tuple of tuples! False\n",
    "        Check if Saravana present in said tuple of tuples! True\n",
    "        '''\n",
    "        \n",
    "tuple_list = (('Coffee', 'Tea', 'Boost'), ('Badam', 'Pista', 'Walnut'), ('Sangeetha', 'A2B', 'Saravana'))\n",
    "element = input()\n",
    "is_present = False\n",
    "for i in tuple_list:\n",
    "    for j in i:\n",
    "        if element in j:\n",
    "            is_present = True\n",
    "            break\n",
    "if is_present:\n",
    "    print(\"True\")\n",
    "else:\n",
    "    print(\"False\")"
   ]
  },
  {
   "cell_type": "code",
   "execution_count": null,
   "id": "c343de8c",
   "metadata": {},
   "outputs": [],
   "source": []
  }
 ],
 "metadata": {
  "kernelspec": {
   "display_name": "Python 3 (ipykernel)",
   "language": "python",
   "name": "python3"
  },
  "language_info": {
   "codemirror_mode": {
    "name": "ipython",
    "version": 3
   },
   "file_extension": ".py",
   "mimetype": "text/x-python",
   "name": "python",
   "nbconvert_exporter": "python",
   "pygments_lexer": "ipython3",
   "version": "3.11.5"
  }
 },
 "nbformat": 4,
 "nbformat_minor": 5
}
