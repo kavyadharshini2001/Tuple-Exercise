{
 "cells": [
  {
   "cell_type": "code",
   "execution_count": 26,
   "id": "de774af6",
   "metadata": {},
   "outputs": [
    {
     "name": "stdout",
     "output_type": "stream",
     "text": [
      "y- (1, 2)\n"
     ]
    }
   ],
   "source": [
    "'''1. Write a Python program to print convert a list into a tuple.\n",
    "    Data:\n",
    "        x = [1,2]\n",
    "    Expected Output:\n",
    "        x - [1, 2]\n",
    "        <class 'list'>\n",
    "        y - (1, 2)\n",
    "        <class 'tuple'>'''        \n",
    "        \n",
    "x = [1,2]            \n",
    "print(\"y-\",(tuple(x)))"
   ]
  },
  {
   "cell_type": "code",
   "execution_count": 27,
   "id": "fa4c7872",
   "metadata": {},
   "outputs": [
    {
     "name": "stdout",
     "output_type": "stream",
     "text": [
      "('tuples', 3.2, 1)\n"
     ]
    }
   ],
   "source": [
    "'''2. Write a Python program to create a tuple with different data types.\n",
    "    Data:\n",
    "        x = (\"tuples\",3.2, 1)\n",
    "    Expected Output:\n",
    "        ('tuples', 3.2, 1)\n",
    "        '''\n",
    "x = (\"tuples\",3.2, 1)\n",
    "print(x)"
   ]
  },
  {
   "cell_type": "code",
   "execution_count": 28,
   "id": "5d98e7db",
   "metadata": {},
   "outputs": [
    {
     "name": "stdout",
     "output_type": "stream",
     "text": [
      "5\n",
      "10\n",
      "15\n",
      "20\n",
      "25\n"
     ]
    }
   ],
   "source": [
    "'''Write a Python program to create a tuple with numbers and print the items one by one.\n",
    "    Data:\n",
    "        x = 5, 10, 15, 20, 25\n",
    "    Expected Output:\n",
    "        <class 'tuple'> \n",
    "        (5, 10, 15, 20, 25)\n",
    "        5\n",
    "        10\n",
    "        15\n",
    "        20\n",
    "        25'''\n",
    "x = (5,10,15,20,25)\n",
    "for i in x:\n",
    "    print(i)"
   ]
  },
  {
   "cell_type": "code",
   "execution_count": 36,
   "id": "1ecb4389",
   "metadata": {},
   "outputs": [
    {
     "name": "stdout",
     "output_type": "stream",
     "text": [
      "volatality"
     ]
    }
   ],
   "source": [
    "'''4. Write a Python program to convert a tuple of characters into a string.\n",
    "    Data:\n",
    "        x = ('v', 'o', 'l', 'a', 't', 'a', 'l', 'i', 't', 'y')\n",
    "    Expected Output:\n",
    "        volatility'''\n",
    "x = ('v', 'o', 'l', 'a', 't', 'a', 'l', 'i', 't', 'y')\n",
    "\n",
    "for i in x:\n",
    "    print(i,end=\"\")\n"
   ]
  },
  {
   "cell_type": "code",
   "execution_count": 38,
   "id": "88946ebd",
   "metadata": {},
   "outputs": [
    {
     "name": "stdout",
     "output_type": "stream",
     "text": [
      "(1, 2, 3)\n",
      "[1, 2, 3]\n"
     ]
    }
   ],
   "source": [
    "'''5. Write a Python program to convert a tuple into a list.\n",
    "    Data:\n",
    "        x=(1,2,3)\n",
    "    Expected Output:\n",
    "        (1, 2, 3)\n",
    "        [1, 2, 3]\n",
    "        '''\n",
    "x=(1,2,3)\n",
    "print(x)\n",
    "print(list(x))"
   ]
  },
  {
   "cell_type": "code",
   "execution_count": 42,
   "id": "c1d4d7f3",
   "metadata": {},
   "outputs": [
    {
     "name": "stdout",
     "output_type": "stream",
     "text": [
      "('a', 'b', 'd')\n"
     ]
    }
   ],
   "source": [
    "'''6. Write a Python program to remove an element from a tuple.\n",
    "    Data:\n",
    "        x = (\"a\",\"b\",\"c\",\"d\")\n",
    "    Expected Output:\n",
    "        ('a', 'b', 'd')'''\n",
    "x = (\"a\",\"b\",\"c\",\"d\")\n",
    "y = list(x)\n",
    "y.remove(\"c\")\n",
    "x = tuple(y)\n",
    "print(x)"
   ]
  },
  {
   "cell_type": "code",
   "execution_count": 49,
   "id": "de1ec5d2",
   "metadata": {},
   "outputs": [
    {
     "name": "stdout",
     "output_type": "stream",
     "text": [
      "('p', 'o', 's', 'i', 't', 'i', 'o', 'n', 's')\n",
      "9\n"
     ]
    }
   ],
   "source": [
    "'''7. Write a Python program to find the length of a tuple.\n",
    "    Data:\n",
    "        x = (\"positions\")\n",
    "    Expected Output:\n",
    "        ('p', 'o', 's', 'i', 't', 'i', 'o', 'n', 's')\n",
    "        9\n",
    "        '''\n",
    "x = (\"positions\")\n",
    "y = len(x)\n",
    "z =[]\n",
    "for i in x:\n",
    "    z.append(i)\n",
    "z = tuple(z)\n",
    "print(z)\n",
    "print(len(z))"
   ]
  },
  {
   "cell_type": "code",
   "execution_count": 85,
   "id": "1b07e647",
   "metadata": {},
   "outputs": [
    {
     "name": "stdout",
     "output_type": "stream",
     "text": [
      "('r', 'a', 'k', 's', 'a', 'b')\n",
      "(20, 15, 10, 5)\n"
     ]
    }
   ],
   "source": [
    "'''9. Write a Python program to reverse the tuple elements.\n",
    "    Data:\n",
    "        x = (\"Baskar\")\n",
    "        x = (5, 10, 15, 20)\n",
    "    Expected Output:\n",
    "        ('r', 'a', 'k', 's', 'a', 'B')\n",
    "        (20, 15, 10, 5)\n",
    "        '''   \n",
    "def y(a):\n",
    "    z = list(a)\n",
    "    reverse =a[::-1]\n",
    "    tup = tuple(reverse)\n",
    "    return tup \n",
    "x = (\"baskar\")\n",
    "print(y(x))\n",
    "x = (5, 10, 15, 20)\n",
    "print(y(x))"
   ]
  },
  {
   "cell_type": "code",
   "execution_count": 87,
   "id": "88513346",
   "metadata": {},
   "outputs": [
    {
     "name": "stdout",
     "output_type": "stream",
     "text": [
      "(4, 8, 3)\n",
      "15\n"
     ]
    }
   ],
   "source": [
    "'''10. Write a Python program to unpack a tuple in several variables.  \n",
    "    Data:\n",
    "        x = 4, 8, 3\n",
    "    Expected Output:\n",
    "        (4, 8, 3)\n",
    "        15'''\n",
    "x = (4, 8, 3)\n",
    "sum = 0\n",
    "for i in x:\n",
    "    sum += i\n",
    "print(x)\n",
    "print(sum)    "
   ]
  },
  {
   "cell_type": "code",
   "execution_count": 88,
   "id": "df56a03e",
   "metadata": {},
   "outputs": [
    {
     "name": "stdout",
     "output_type": "stream",
     "text": [
      "('Boss', [8, 4, 6], (1, 2, 3))\n"
     ]
    }
   ],
   "source": [
    "'''11. Write a Python program to create a nested tuple.\n",
    "    Data:\n",
    "        x = (\"Boss\", [8, 4, 6], (1, 2, 3)) \n",
    "    Expected Output:\n",
    "        ('Boss', [8, 4, 6], (1, 2, 3))'''\n",
    "x = (\"Boss\", [8, 4, 6], (1, 2, 3))\n",
    "print(x)"
   ]
  },
  {
   "cell_type": "code",
   "execution_count": 90,
   "id": "3ede67f3",
   "metadata": {},
   "outputs": [
    {
     "name": "stdout",
     "output_type": "stream",
     "text": [
      "<class 'str'>\n",
      "<class 'tuple'>\n"
     ]
    }
   ],
   "source": [
    "'''12. Write a Python program to convert a string into a tuple.\n",
    "    Data:\n",
    "        x = (\"hello\")\n",
    "    Expected Output:\n",
    "        <class 'str'>\n",
    "        <class 'tuple'>'''\n",
    "x =(\"hello\")\n",
    "y = tuple(x)\n",
    "print(type(x))\n",
    "print(type(y))"
   ]
  },
  {
   "cell_type": "code",
   "execution_count": 92,
   "id": "a8ab3b92",
   "metadata": {},
   "outputs": [
    {
     "name": "stdout",
     "output_type": "stream",
     "text": [
      "x[0] is: B\n",
      "x[5] is: r\n"
     ]
    }
   ],
   "source": [
    "'''13. Write a Python program to access tuple elements using index.\n",
    "    Data:\n",
    "        x = ('B','a','s','k','a','r')\n",
    "    Expected Output:\n",
    "        x[0] is : B\n",
    "        x[5] is : r\n",
    "'''\n",
    "x = ('B','a','s','k','a','r')\n",
    "print(\"x[0] is:\",x[0])\n",
    "print(\"x[5] is:\",x[5])"
   ]
  },
  {
   "cell_type": "code",
   "execution_count": 93,
   "id": "9268deb4",
   "metadata": {},
   "outputs": [
    {
     "name": "stdout",
     "output_type": "stream",
     "text": [
      "x[0][3] is: s\n",
      "x[1][1] is: 4\n"
     ]
    }
   ],
   "source": [
    "'''14. Write a Python program to access nested tuple elements using index. \n",
    "    Data:\n",
    "        x = (\"Boss\", [8, 4, 6], (1, 2, 3)) \n",
    "    Expected Output:\n",
    "        x[0][3] is : s\n",
    "        x[1][1] is : 4\n",
    "        '''\n",
    "x = (\"Boss\", [8, 4, 6], (1, 2, 3)) \n",
    "print(\"x[0][3] is:\",x[0][3])\n",
    "print(\"x[1][1] is:\",x[1][1])"
   ]
  },
  {
   "cell_type": "code",
   "execution_count": 94,
   "id": "4c59bedf",
   "metadata": {},
   "outputs": [
    {
     "name": "stdout",
     "output_type": "stream",
     "text": [
      "x[-1] is : r\n",
      "x[-6] is : B\n"
     ]
    }
   ],
   "source": [
    "'''15. Write a Python program to access tuple elements using negative index.\n",
    "    Data:\n",
    "        x = ('B','a','s','k','a','r')\n",
    "    Expected Output:\n",
    "        x[-1] is : r\n",
    "        x[-6] is : B'''\n",
    "x = ('B','a','s','k','a','r')\n",
    "print(\"x[-1] is :\",x[-1])\n",
    "print(\"x[-6] is :\",x[-6])"
   ]
  },
  {
   "cell_type": "code",
   "execution_count": 96,
   "id": "b201b884",
   "metadata": {},
   "outputs": [
    {
     "name": "stdout",
     "output_type": "stream",
     "text": [
      "z = x + y: (1, 12, 123, 4, 9)\n",
      "z * 3: (1, 12, 123, 4, 9, 1, 12, 123, 4, 9, 1, 12, 123, 4, 9)\n"
     ]
    }
   ],
   "source": [
    "x = (1, 12, 123)\n",
    "y = (4, 9)\n",
    "z1 = x + y\n",
    "z2 = z1 * 3\n",
    "print(f\"z = x + y: {z1}\")\n",
    "print(f\"z * 3: {z2}\")\n"
   ]
  },
  {
   "cell_type": "code",
   "execution_count": 97,
   "id": "c89f9747",
   "metadata": {},
   "outputs": [
    {
     "name": "stdout",
     "output_type": "stream",
     "text": [
      "hello boss\n",
      "hello sai\n"
     ]
    }
   ],
   "source": [
    "'''17. Write a Python program to print each elements of a tuple using for loop.\n",
    "    Data:\n",
    "        Tuple x = ('boss','sai')\n",
    "    Expected Output:\n",
    "        Hello boss\n",
    "        Hello bala\n",
    "        '''\n",
    "x = ('boss','sai')\n",
    "for i in x:\n",
    "    print(f\"hello {i}\")"
   ]
  },
  {
   "cell_type": "code",
   "execution_count": 101,
   "id": "6b4aed12",
   "metadata": {},
   "outputs": [
    {
     "name": "stdout",
     "output_type": "stream",
     "text": [
      "2\n",
      "3\n"
     ]
    }
   ],
   "source": [
    "'''18. Write a Python program to print the count of 'p' and the index of 'l' from the given tuple using tuple methods.\n",
    "    Data: \n",
    "        x = ('a', 'p', 'p', 'l', 'e')\n",
    "    Expected Output:\n",
    "        Count of p is : 2\n",
    "        Index of l is : 3'''\n",
    "x = ('a', 'p', 'p', 'l', 'e')\n",
    "print(x.count(\"p\"))\n",
    "print(x.index(\"l\"))"
   ]
  },
  {
   "cell_type": "code",
   "execution_count": 105,
   "id": "e42aa30d",
   "metadata": {},
   "outputs": [
    {
     "name": "stdout",
     "output_type": "stream",
     "text": [
      "(1, [9, 8, 7], 'boss')\n",
      "(1, [9, 8, 77], 'boss')\n"
     ]
    }
   ],
   "source": [
    "'''19. Write a Python program to update an element of a given tuple from 7 to 77.\n",
    "    Data:\n",
    "        x = (1, [9, 8, 7], \"boss\")\n",
    "    Expected Output:\n",
    "        (1, [9, 8, 7], 'boss')\n",
    "        (1, [9, 8, 77], 'boss')\n",
    "        '''\n",
    "x = (1, [9, 8, 7], \"boss\")\n",
    "print(x)\n",
    "y = list(x)\n",
    "y[1][2]=77\n",
    "\n",
    "print(tuple(y))\n"
   ]
  },
  {
   "cell_type": "code",
   "execution_count": 106,
   "id": "3163775c",
   "metadata": {},
   "outputs": [
    {
     "name": "stdout",
     "output_type": "stream",
     "text": [
      "(11, 22, 33, 44, 55, 66, 77, 88, 99)\n",
      "(33, 44, 55)\n",
      "(11, 22, 33, 44)\n",
      "(55, 66, 77, 88, 99)\n",
      "(55, 66, 77, 88)\n",
      "(11, 22, 33, 44, 55, 66, 77, 88, 99)\n"
     ]
    }
   ],
   "source": [
    "'''20. Write a Python program to slice a tuple.\n",
    "    Data: \n",
    "        x = (11, 22, 33, 44, 55, 66, 77, 88, 99)\n",
    "    Expected Output:\n",
    "        (11, 22, 33, 44, 55, 66, 77, 88, 99)\n",
    "        (33, 44, 55)\n",
    "        (11, 22, 33, 44)\n",
    "        (55, 66, 77, 88, 99)\n",
    "        (55, 66, 77, 88)\n",
    "        (11, 22, 33, 44, 55, 66, 77, 88, 99)\n",
    "        '''\n",
    "x = (11, 22, 33, 44, 55, 66, 77, 88, 99)\n",
    "print(x)\n",
    "print(x[2:5])\n",
    "print(x[0:4])\n",
    "print(x[4:9])\n",
    "print(x[4:8])\n",
    "print(x)"
   ]
  },
  {
   "cell_type": "code",
   "execution_count": null,
   "id": "8fde6378",
   "metadata": {},
   "outputs": [],
   "source": []
  }
 ],
 "metadata": {
  "kernelspec": {
   "display_name": "Python 3 (ipykernel)",
   "language": "python",
   "name": "python3"
  },
  "language_info": {
   "codemirror_mode": {
    "name": "ipython",
    "version": 3
   },
   "file_extension": ".py",
   "mimetype": "text/x-python",
   "name": "python",
   "nbconvert_exporter": "python",
   "pygments_lexer": "ipython3",
   "version": "3.11.5"
  }
 },
 "nbformat": 4,
 "nbformat_minor": 5
}
